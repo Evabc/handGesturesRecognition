{
 "cells": [
  {
   "cell_type": "code",
   "execution_count": 1,
   "metadata": {},
   "outputs": [
    {
     "name": "stdout",
     "output_type": "stream",
     "text": [
      "pygame 2.0.0 (SDL 2.0.12, python 3.5.6)\n",
      "Hello from the pygame community. https://www.pygame.org/contribute.html\n"
     ]
    }
   ],
   "source": [
    "import cv2\n",
    "import json\n",
    "import random\n",
    "import pygame\n",
    "import sys, os\n",
    "import operator\n",
    "from PIL import Image\n"
   ]
  },
  {
   "cell_type": "code",
   "execution_count": 3,
   "metadata": {},
   "outputs": [],
   "source": [
    "\n",
    "# 使用pygame來建一個預測視窗\n",
    "pygame.init()\n",
    "screen = pygame.display.set_mode((400,400),pygame.RESIZABLE)\n",
    "CLIP_X1,CLIP_Y1,CLIP_X2,CLIP_Y2 = 160,140,400,360\n",
    "\n",
    "\n",
    "\n",
    "cap = cv2.VideoCapture(0) # 擷取鏡頭畫面\n",
    "i = 0 # 用來記錄之後要新增的image\n",
    "wzs = 158 # 調整二值化的閥值變數\n",
    "image_q = cv2.THRESH_BINARY # 調整二值化的模式\n",
    "\n",
    "while True:\n",
    "    _, FrameImage = cap.read() # 讀取鏡頭畫面\n",
    "    FrameImage = cv2.flip(FrameImage, 1) # 圖像水平翻轉\n",
    "    cv2.imshow(\"\", FrameImage) # 顯示鏡頭畫面\n",
    "    cv2.rectangle(FrameImage, (CLIP_X1, CLIP_Y1), (CLIP_X2, CLIP_Y2), (0,255,0) ,1) # 框出ROI位置\n",
    "\n",
    "    ROI = FrameImage[CLIP_Y1:CLIP_Y2, CLIP_X1:CLIP_X2] # ROI的大小\n",
    "    ROI = cv2.resize(ROI, (128, 128))  # ROI resize\n",
    "    ROI = cv2.cvtColor(ROI, cv2.COLOR_BGR2GRAY) # ROI 轉灰階\n",
    "    _, output = cv2.threshold(ROI, wzs, 255, image_q) # Threshold Binary：即二值化，將大於閾值的灰度值設為最大灰度值，小於閾值的值設為0。\n",
    "    \n",
    "    SHOWROI = cv2.resize(ROI, (256, 256)) # ROI resize\n",
    "    _, output2 = cv2.threshold(SHOWROI, wzs, 255, image_q) # Black Background is better for prediction\n",
    "    cv2.imshow(\"ROI\", output2)\n",
    "\n",
    "    cv2.imwrite('./test'+str(i)+'.jpg',output2)\n",
    "    i += 1\n",
    "    keypress = cv2.waitKey(1) & 0xFF\n",
    "    if keypress == ord(\"q\"):\n",
    "            break\n",
    "    \n",
    "pygame.quit()\n",
    "cap.release()\n",
    "cv2.destroyAllWindows()"
   ]
  },
  {
   "cell_type": "code",
   "execution_count": null,
   "metadata": {},
   "outputs": [],
   "source": []
  }
 ],
 "metadata": {
  "kernelspec": {
   "display_name": "tf",
   "language": "python",
   "name": "tensorflow"
  },
  "language_info": {
   "codemirror_mode": {
    "name": "ipython",
    "version": 3
   },
   "file_extension": ".py",
   "mimetype": "text/x-python",
   "name": "python",
   "nbconvert_exporter": "python",
   "pygments_lexer": "ipython3",
   "version": "3.5.6"
  }
 },
 "nbformat": 4,
 "nbformat_minor": 4
}
